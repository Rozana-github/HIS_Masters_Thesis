{
  "nbformat": 4,
  "nbformat_minor": 0,
  "metadata": {
    "kernelspec": {
      "display_name": "Python 3",
      "language": "python",
      "name": "python3"
    },
    "language_info": {
      "codemirror_mode": {
        "name": "ipython",
        "version": 3
      },
      "file_extension": ".py",
      "mimetype": "text/x-python",
      "name": "python",
      "nbconvert_exporter": "python",
      "pygments_lexer": "ipython3",
      "version": "3.7.6"
    },
    "colab": {
      "name": "Sentiment_analysis_with_Deep_Learning_NN_CNN_RNN.ipynb",
      "provenance": [],
      "toc_visible": true
    }
  },
  "cells": [
    {
      "cell_type": "code",
      "metadata": {
        "id": "e58gzt3MkIQ0"
      },
      "source": [
        "import pandas as pd\n",
        "import numpy as np\n",
        "import re\n",
        "import nltk\n",
        "from nltk.corpus import stopwords\n",
        "\n",
        "from numpy import array\n",
        "from keras.preprocessing.text import one_hot\n",
        "from keras.preprocessing.sequence import pad_sequences\n",
        "from keras.models import Sequential\n",
        "from keras.layers.core import Activation, Dropout, Dense\n",
        "from keras.layers import Flatten\n",
        "from keras.layers import GlobalMaxPooling1D\n",
        "from keras.layers.embeddings import Embedding\n",
        "from sklearn.model_selection import train_test_split\n",
        "from keras.preprocessing.text import Tokenizer"
      ],
      "execution_count": null,
      "outputs": []
    },
    {
      "cell_type": "code",
      "metadata": {
        "id": "WnnYpHKOkIRR"
      },
      "source": [
        "S_df = pd.read_csv(\"train.csv\") # dataFrame create based on rows and columns\n"
      ],
      "execution_count": null,
      "outputs": []
    },
    {
      "cell_type": "code",
      "metadata": {
        "id": "8BB84t0JkIRY",
        "colab": {
          "base_uri": "https://localhost:8080/",
          "height": 419
        },
        "outputId": "8228904f-20f0-4c86-fae8-ab85c9e02ec1"
      },
      "source": [
        "S_df"
      ],
      "execution_count": null,
      "outputs": [
        {
          "output_type": "execute_result",
          "data": {
            "text/html": [
              "<div>\n",
              "<style scoped>\n",
              "    .dataframe tbody tr th:only-of-type {\n",
              "        vertical-align: middle;\n",
              "    }\n",
              "\n",
              "    .dataframe tbody tr th {\n",
              "        vertical-align: top;\n",
              "    }\n",
              "\n",
              "    .dataframe thead th {\n",
              "        text-align: right;\n",
              "    }\n",
              "</style>\n",
              "<table border=\"1\" class=\"dataframe\">\n",
              "  <thead>\n",
              "    <tr style=\"text-align: right;\">\n",
              "      <th></th>\n",
              "      <th>textID</th>\n",
              "      <th>text</th>\n",
              "      <th>selected_text</th>\n",
              "      <th>sentiment</th>\n",
              "    </tr>\n",
              "  </thead>\n",
              "  <tbody>\n",
              "    <tr>\n",
              "      <th>0</th>\n",
              "      <td>cb774db0d1</td>\n",
              "      <td>I`d have responded, if I were going</td>\n",
              "      <td>I`d have responded, if I were going</td>\n",
              "      <td>neutral</td>\n",
              "    </tr>\n",
              "    <tr>\n",
              "      <th>1</th>\n",
              "      <td>549e992a42</td>\n",
              "      <td>Sooo SAD I will miss you here in San Diego!!!</td>\n",
              "      <td>Sooo SAD</td>\n",
              "      <td>negative</td>\n",
              "    </tr>\n",
              "    <tr>\n",
              "      <th>2</th>\n",
              "      <td>088c60f138</td>\n",
              "      <td>my boss is bullying me...</td>\n",
              "      <td>bullying me</td>\n",
              "      <td>negative</td>\n",
              "    </tr>\n",
              "    <tr>\n",
              "      <th>3</th>\n",
              "      <td>9642c003ef</td>\n",
              "      <td>what interview! leave me alone</td>\n",
              "      <td>leave me alone</td>\n",
              "      <td>negative</td>\n",
              "    </tr>\n",
              "    <tr>\n",
              "      <th>4</th>\n",
              "      <td>358bd9e861</td>\n",
              "      <td>Sons of ****, why couldn`t they put them on t...</td>\n",
              "      <td>Sons of ****,</td>\n",
              "      <td>negative</td>\n",
              "    </tr>\n",
              "    <tr>\n",
              "      <th>...</th>\n",
              "      <td>...</td>\n",
              "      <td>...</td>\n",
              "      <td>...</td>\n",
              "      <td>...</td>\n",
              "    </tr>\n",
              "    <tr>\n",
              "      <th>27476</th>\n",
              "      <td>4eac33d1c0</td>\n",
              "      <td>wish we could come see u on Denver  husband l...</td>\n",
              "      <td>d lost</td>\n",
              "      <td>negative</td>\n",
              "    </tr>\n",
              "    <tr>\n",
              "      <th>27477</th>\n",
              "      <td>4f4c4fc327</td>\n",
              "      <td>I`ve wondered about rake to.  The client has ...</td>\n",
              "      <td>, don`t force</td>\n",
              "      <td>negative</td>\n",
              "    </tr>\n",
              "    <tr>\n",
              "      <th>27478</th>\n",
              "      <td>f67aae2310</td>\n",
              "      <td>Yay good for both of you. Enjoy the break - y...</td>\n",
              "      <td>Yay good for both of you.</td>\n",
              "      <td>positive</td>\n",
              "    </tr>\n",
              "    <tr>\n",
              "      <th>27479</th>\n",
              "      <td>ed167662a5</td>\n",
              "      <td>But it was worth it  ****.</td>\n",
              "      <td>But it was worth it  ****.</td>\n",
              "      <td>positive</td>\n",
              "    </tr>\n",
              "    <tr>\n",
              "      <th>27480</th>\n",
              "      <td>6f7127d9d7</td>\n",
              "      <td>All this flirting going on - The ATG smiles...</td>\n",
              "      <td>All this flirting going on - The ATG smiles. Y...</td>\n",
              "      <td>neutral</td>\n",
              "    </tr>\n",
              "  </tbody>\n",
              "</table>\n",
              "<p>27481 rows × 4 columns</p>\n",
              "</div>"
            ],
            "text/plain": [
              "           textID  ... sentiment\n",
              "0      cb774db0d1  ...   neutral\n",
              "1      549e992a42  ...  negative\n",
              "2      088c60f138  ...  negative\n",
              "3      9642c003ef  ...  negative\n",
              "4      358bd9e861  ...  negative\n",
              "...           ...  ...       ...\n",
              "27476  4eac33d1c0  ...  negative\n",
              "27477  4f4c4fc327  ...  negative\n",
              "27478  f67aae2310  ...  positive\n",
              "27479  ed167662a5  ...  positive\n",
              "27480  6f7127d9d7  ...   neutral\n",
              "\n",
              "[27481 rows x 4 columns]"
            ]
          },
          "metadata": {
            "tags": []
          },
          "execution_count": 72
        }
      ]
    },
    {
      "cell_type": "code",
      "metadata": {
        "id": "WS23eQ5EkIRg",
        "colab": {
          "base_uri": "https://localhost:8080/",
          "height": 102
        },
        "outputId": "3d7b96b3-2788-4e87-9ef0-9af89d64c931"
      },
      "source": [
        "print(S_df.isnull().sum())"
      ],
      "execution_count": null,
      "outputs": [
        {
          "output_type": "stream",
          "text": [
            "textID           0\n",
            "text             1\n",
            "selected_text    1\n",
            "sentiment        0\n",
            "dtype: int64\n"
          ],
          "name": "stdout"
        }
      ]
    },
    {
      "cell_type": "code",
      "metadata": {
        "id": "sJSUiJ_zkIRj",
        "colab": {
          "base_uri": "https://localhost:8080/",
          "height": 102
        },
        "outputId": "1a9d5048-baf0-4542-d765-97a52b9287c1"
      },
      "source": [
        "S_df.dropna(inplace=True)\n",
        "print(S_df.isnull().sum())"
      ],
      "execution_count": null,
      "outputs": [
        {
          "output_type": "stream",
          "text": [
            "textID           0\n",
            "text             0\n",
            "selected_text    0\n",
            "sentiment        0\n",
            "dtype: int64\n"
          ],
          "name": "stdout"
        }
      ]
    },
    {
      "cell_type": "code",
      "metadata": {
        "id": "dw94O7Y4kIRn",
        "colab": {
          "base_uri": "https://localhost:8080/",
          "height": 85
        },
        "outputId": "b2212378-c810-48ba-a910-4ae3b672dfef"
      },
      "source": [
        "S_df['sentiment'].value_counts()"
      ],
      "execution_count": null,
      "outputs": [
        {
          "output_type": "execute_result",
          "data": {
            "text/plain": [
              "neutral     11117\n",
              "positive     8582\n",
              "negative     7781\n",
              "Name: sentiment, dtype: int64"
            ]
          },
          "metadata": {
            "tags": []
          },
          "execution_count": 75
        }
      ]
    },
    {
      "cell_type": "code",
      "metadata": {
        "id": "rXsanJZ0kIRq"
      },
      "source": [
        "S_df['sentiment_num']= S_df.sentiment.map({'positive':1,'neutral':0, 'negative':2 })\n",
        "                                     "
      ],
      "execution_count": null,
      "outputs": []
    },
    {
      "cell_type": "code",
      "metadata": {
        "id": "eKT34gzFkIRt"
      },
      "source": [
        "df=pd.DataFrame()"
      ],
      "execution_count": null,
      "outputs": []
    },
    {
      "cell_type": "code",
      "metadata": {
        "id": "vo_vGHXUkIRw"
      },
      "source": [
        "df['selected_text']=S_df['selected_text']"
      ],
      "execution_count": null,
      "outputs": []
    },
    {
      "cell_type": "code",
      "metadata": {
        "id": "sBR2cp8-kIR0"
      },
      "source": [
        "df['sentiment_num']=S_df['sentiment_num']"
      ],
      "execution_count": null,
      "outputs": []
    },
    {
      "cell_type": "code",
      "metadata": {
        "scrolled": true,
        "id": "x9qPIo6QkIR5",
        "colab": {
          "base_uri": "https://localhost:8080/",
          "height": 419
        },
        "outputId": "1f91b9d7-061b-40ea-97e5-09ccd7c664ed"
      },
      "source": [
        "df"
      ],
      "execution_count": null,
      "outputs": [
        {
          "output_type": "execute_result",
          "data": {
            "text/html": [
              "<div>\n",
              "<style scoped>\n",
              "    .dataframe tbody tr th:only-of-type {\n",
              "        vertical-align: middle;\n",
              "    }\n",
              "\n",
              "    .dataframe tbody tr th {\n",
              "        vertical-align: top;\n",
              "    }\n",
              "\n",
              "    .dataframe thead th {\n",
              "        text-align: right;\n",
              "    }\n",
              "</style>\n",
              "<table border=\"1\" class=\"dataframe\">\n",
              "  <thead>\n",
              "    <tr style=\"text-align: right;\">\n",
              "      <th></th>\n",
              "      <th>selected_text</th>\n",
              "      <th>sentiment_num</th>\n",
              "    </tr>\n",
              "  </thead>\n",
              "  <tbody>\n",
              "    <tr>\n",
              "      <th>0</th>\n",
              "      <td>I`d have responded, if I were going</td>\n",
              "      <td>0</td>\n",
              "    </tr>\n",
              "    <tr>\n",
              "      <th>1</th>\n",
              "      <td>Sooo SAD</td>\n",
              "      <td>2</td>\n",
              "    </tr>\n",
              "    <tr>\n",
              "      <th>2</th>\n",
              "      <td>bullying me</td>\n",
              "      <td>2</td>\n",
              "    </tr>\n",
              "    <tr>\n",
              "      <th>3</th>\n",
              "      <td>leave me alone</td>\n",
              "      <td>2</td>\n",
              "    </tr>\n",
              "    <tr>\n",
              "      <th>4</th>\n",
              "      <td>Sons of ****,</td>\n",
              "      <td>2</td>\n",
              "    </tr>\n",
              "    <tr>\n",
              "      <th>...</th>\n",
              "      <td>...</td>\n",
              "      <td>...</td>\n",
              "    </tr>\n",
              "    <tr>\n",
              "      <th>27476</th>\n",
              "      <td>d lost</td>\n",
              "      <td>2</td>\n",
              "    </tr>\n",
              "    <tr>\n",
              "      <th>27477</th>\n",
              "      <td>, don`t force</td>\n",
              "      <td>2</td>\n",
              "    </tr>\n",
              "    <tr>\n",
              "      <th>27478</th>\n",
              "      <td>Yay good for both of you.</td>\n",
              "      <td>1</td>\n",
              "    </tr>\n",
              "    <tr>\n",
              "      <th>27479</th>\n",
              "      <td>But it was worth it  ****.</td>\n",
              "      <td>1</td>\n",
              "    </tr>\n",
              "    <tr>\n",
              "      <th>27480</th>\n",
              "      <td>All this flirting going on - The ATG smiles. Y...</td>\n",
              "      <td>0</td>\n",
              "    </tr>\n",
              "  </tbody>\n",
              "</table>\n",
              "<p>27480 rows × 2 columns</p>\n",
              "</div>"
            ],
            "text/plain": [
              "                                           selected_text  sentiment_num\n",
              "0                    I`d have responded, if I were going              0\n",
              "1                                               Sooo SAD              2\n",
              "2                                            bullying me              2\n",
              "3                                         leave me alone              2\n",
              "4                                          Sons of ****,              2\n",
              "...                                                  ...            ...\n",
              "27476                                             d lost              2\n",
              "27477                                      , don`t force              2\n",
              "27478                          Yay good for both of you.              1\n",
              "27479                         But it was worth it  ****.              1\n",
              "27480  All this flirting going on - The ATG smiles. Y...              0\n",
              "\n",
              "[27480 rows x 2 columns]"
            ]
          },
          "metadata": {
            "tags": []
          },
          "execution_count": 80
        }
      ]
    },
    {
      "cell_type": "code",
      "metadata": {
        "id": "_1VFWJxCkISG"
      },
      "source": [
        "X = df['selected_text'] # X denotes feature  of a dataset #Feature Matrix"
      ],
      "execution_count": null,
      "outputs": []
    },
    {
      "cell_type": "code",
      "metadata": {
        "id": "Odx3kUHrkISa"
      },
      "source": [
        "y=df['sentiment_num']"
      ],
      "execution_count": null,
      "outputs": []
    },
    {
      "cell_type": "markdown",
      "metadata": {
        "id": "flmP0Uk-kISs"
      },
      "source": [
        "# Data Preprocessing"
      ]
    },
    {
      "cell_type": "code",
      "metadata": {
        "id": "eswPvWaBPF1A"
      },
      "source": [
        "#cleaning function\n",
        "def preprocess_text(sen):\n",
        "    sentence = remove_tags(sen) # Removing html tags\n",
        "    sentence = re.sub('[^a-zA-Z]', ' ', sentence)  # Remove punctuations and numbers \n",
        "    sentence = re.sub(r\"\\s+[a-zA-Z]\\s+\", ' ', sentence)  # Single character removal.second input argument= '' by blank symbol.\n",
        "    sentence = re.sub(r'\\s+', ' ', sentence)  # Removing multiple spaces\n",
        "    sentence = sentence.lower() #will make all the text lower case\n",
        "    sentence = re.sub('\\[.*?\\]', '', sentence) #'\\[.*?\\]' will be removed\n",
        "    sentence = re.sub('https?://\\S+|www\\.\\S+', '', sentence) #'https?://\\S+|www\\.\\S+' will be removed\n",
        "    sentence = re.sub('<.*?>+', '', sentence) # '<.*?>+' will be removed and sub means substance for substitute \n",
        "    sentence = re.sub('\\n', '', sentence) \n",
        "    sentence = re.sub('\\w*\\d\\w*', '', sentence) #W* is raw text will be removed\n",
        "    return sentence"
      ],
      "execution_count": null,
      "outputs": []
    },
    {
      "cell_type": "code",
      "metadata": {
        "id": "1J7zvfhv0kME"
      },
      "source": [
        "TAG_RE = re.compile(r'<[^>]+>')\n",
        "\n",
        "def remove_tags(text):\n",
        "    return TAG_RE.sub('', text)"
      ],
      "execution_count": null,
      "outputs": []
    },
    {
      "cell_type": "code",
      "metadata": {
        "id": "a1vjSazSkIS1"
      },
      "source": [
        "X = []\n",
        "sentences = list(df['selected_text'])\n",
        "for sen in sentences:\n",
        "    X.append(preprocess_text(sen))"
      ],
      "execution_count": null,
      "outputs": []
    },
    {
      "cell_type": "code",
      "metadata": {
        "id": "BMEJXhzikIS3",
        "colab": {
          "base_uri": "https://localhost:8080/",
          "height": 1000
        },
        "outputId": "901e4947-86d3-49e3-eca0-ac2e41f2906b"
      },
      "source": [
        "X"
      ],
      "execution_count": null,
      "outputs": [
        {
          "output_type": "execute_result",
          "data": {
            "text/plain": [
              "['i have responded if were going',\n",
              " 'sooo sad',\n",
              " 'bullying me',\n",
              " 'leave me alone',\n",
              " 'sons of ',\n",
              " 'http www dothebouncy com smf some shameless plugging for the best rangers forum on earth',\n",
              " 'fun',\n",
              " 'soooo high',\n",
              " 'both of you',\n",
              " 'wow just became cooler ',\n",
              " 'as much as love to be hopeful reckon the chances are minimal i never gonna get my cake and stuff',\n",
              " 'like',\n",
              " 'dangerously',\n",
              " 'lost',\n",
              " 'test test from the lg env ',\n",
              " 'uh oh am sunburned',\n",
              " ' sigh ',\n",
              " 'sick',\n",
              " 'onna',\n",
              " 'hes just not that into you',\n",
              " 'oh marly m so sorry hope you find her soon ',\n",
              " 'interesting ',\n",
              " 'is cleaning the house for her family who is comming later today ',\n",
              " 'gotta restart my computer thought win was supposed to put an end to the constant rebootiness',\n",
              " 'see wat mean bout foll friidays it called lose llowers friday smh',\n",
              " 'the free fillin app on my ipod is fun im addicted',\n",
              " 'i sorry ',\n",
              " ' no internet',\n",
              " 'fun',\n",
              " 'power back up not working too',\n",
              " 'quite heavenly',\n",
              " 'hope',\n",
              " 'well so much for being unhappy for about minute',\n",
              " 'funny ',\n",
              " 'ahhh slept through the game m gonna try my best to watch tomorrow though hope we play army ',\n",
              " 'thats it its the end tears for fears',\n",
              " 'miss',\n",
              " 'just in case you wonder we are really busy today and this coming with with adding tons of new blogs and updates stay tuned',\n",
              " 'soooooo sleeeeepy ',\n",
              " 'a little happy fo',\n",
              " 'car not happy big big dent in boot hoping theyre not going to write it off crossing fingers and waiting',\n",
              " 'avid fan of',\n",
              " 'mayday ',\n",
              " 'ratt rocked nashville tonite one thing sucked no encore like in the they still have fun show pearcy has that hott bad boy look',\n",
              " 'i love to ',\n",
              " 'the girl in the hair salon asked me shall trim your eyebrows how old do feel ',\n",
              " 'suckkkkkk',\n",
              " ' visiting my friendster and facebook',\n",
              " 'dont like go',\n",
              " 'd m not thrilled at all with mine ',\n",
              " 'then you should check out http twittersucks com and connect with other tweeple who hate twitter',\n",
              " 'also bored at school its my third freelesson freistunde ',\n",
              " 'hm both of us guess ',\n",
              " 'it is have dissappointed me that past few days',\n",
              " 'romance zero is funny',\n",
              " 'i rather do the early run but am morning runner',\n",
              " 'hurts',\n",
              " 'will be back later ',\n",
              " 'torn ace of hearts',\n",
              " 'what fun are you speaking of ',\n",
              " 'i lost all my friends m alone and sleepy ',\n",
              " 'haha yes',\n",
              " 'i give in to easily',\n",
              " 'favorite',\n",
              " 'jealous ',\n",
              " 'is at photoshoot ',\n",
              " 's awesome',\n",
              " 'yay playing show tonight boo it gonna soggy and m at work right before playing',\n",
              " 'chilliin',\n",
              " 'if you know such agent do let me know',\n",
              " 'i still smell of smoke kitchenfire',\n",
              " 'better',\n",
              " 'anyone have an extra keane ticket promise to buy you drink and take rad pics for your fb blog flickr etc',\n",
              " ' you can ride one you can catch one but its not summer til you pop open one ',\n",
              " 'she is good so gor juz yea kno asked her yesterday when we were at tha hospital if she talked to and she said no',\n",
              " 'ok m out of here for now just popped in to say hi and check on things ll probably head to the guttah later on tonight',\n",
              " 'baddd ',\n",
              " 'my sources say no',\n",
              " 'i am sooo tired',\n",
              " 'hey you change your twitter account and you didn even tell me ',\n",
              " 'thank yyyyyyyyyoooooooooouuuuu ',\n",
              " 'lucky',\n",
              " 'fell asleep waiting for my ride ',\n",
              " 'sick ',\n",
              " ' sorry guys',\n",
              " 'happy star wars day everyone and enjoy the holiday uk ',\n",
              " 'miles from you m in essex so give me plenty of warning so can arrive in time to get at least one of those free beers',\n",
              " 'his snoring is so annoying it keeps me from sleeping like right now lol but honestly wud miss it if it eva left love him ',\n",
              " 'i miss you bby',\n",
              " 'cool',\n",
              " 'love it there',\n",
              " ' mounce yes and it lasts way past my bedtime ',\n",
              " 'hi how are you doing just joined twitter ',\n",
              " 'tired',\n",
              " 'eating ice cream and then getting ready for graduation ',\n",
              " 'happy mothers day to all you mums out there',\n",
              " 'freaked',\n",
              " 'unfortunately',\n",
              " 'gonna read story bout adam lambert online then bed nighty night',\n",
              " 'best',\n",
              " 'pretty',\n",
              " 'certainly not cheers than huh ',\n",
              " 'horrible ',\n",
              " 'busy',\n",
              " 'awesome ',\n",
              " 'at least get to watch over time let go pens ',\n",
              " 'cool wear black most of the time when go out',\n",
              " 'thanks',\n",
              " 'safe',\n",
              " 'i wish was allowed to go',\n",
              " 'if have friendster add me my email adress add me loco crime st com add me',\n",
              " 'has tickets ',\n",
              " 'thank you ',\n",
              " 'acsm it unfathomable think the other one and the is one that should be kept to the comfort of our bedrooms yes ',\n",
              " 'i love my',\n",
              " 'i don feel confident',\n",
              " 'sad ',\n",
              " 'hahaa your awesomee ',\n",
              " 'awesomeeeee',\n",
              " 'i hate fallout it keeps making me jump m also low on health money ammo and food don worry ll get through it ',\n",
              " 'i had it on my itunes but then lost all my songs ',\n",
              " 'what with the gloomy weather the sun must be too tired to come out and play heading to victoria gardens for some impulse buys haha',\n",
              " 'not looking forward',\n",
              " 'poor you',\n",
              " 'not well',\n",
              " 'not prob',\n",
              " 'at dads watching some mtv and am going on sims in minutee',\n",
              " 'absolutely',\n",
              " 'what the matter chickadee ',\n",
              " 'y adore',\n",
              " 'good',\n",
              " 'i love him too',\n",
              " 'painful ',\n",
              " 'sad ',\n",
              " 'e nice',\n",
              " 'i wish',\n",
              " 'namaskar namaste both the same marathi people say namaskar its marathi word should naaaah ',\n",
              " 'congrats cuss like that in matter of minutes but didn know until now there is reward for it ',\n",
              " 'humous and dorito oh yes',\n",
              " 'missed all the awesome weather ',\n",
              " 'today is going to be normal day for hope we had group of pilots from large airline come in last night so it was too much drink',\n",
              " 'terrible ',\n",
              " 'unfortunatley ',\n",
              " 'that sucks tho ',\n",
              " 'hate fighting',\n",
              " 'i watched that too didnt want her to win but she put up good fight lol',\n",
              " 'car warmed sprite tastes like sore throat',\n",
              " 'just came th in cross country and beat dumbo',\n",
              " 'enjoyable ',\n",
              " 'endearing ',\n",
              " 'tomorrow valeria lunch going to get my hair done but im arraving late got my cousins babtizm or whatever you spell it',\n",
              " 'goooooddd morning tweets ',\n",
              " 'hate',\n",
              " 'fine ',\n",
              " 'i don like the other ones ',\n",
              " 'mmmmmmmm it in the morning',\n",
              " 'me neither',\n",
              " 'has about hours work to do on sunday boo will find time for two hour lunchbreak though yeah',\n",
              " 'bugger forgot still have washing in my machine',\n",
              " 'sending love blessings healing thoughts to you family peace',\n",
              " ' really bad',\n",
              " 'ah yes know that feeling',\n",
              " 'night of the cookers with my dad',\n",
              " 'brutal',\n",
              " 'nope am in coquitlam',\n",
              " 'boring',\n",
              " 'p sounds like fun',\n",
              " 'big booming thunder storm almost here maybe we can all go home early ah probably not ',\n",
              " 'great',\n",
              " 'excited',\n",
              " 'good morning',\n",
              " 'its the best show ever ',\n",
              " 'messed',\n",
              " 'i think iv hurt my tooth and eilish and cassie are having drawing competiton to draw cookies and pineapples haha ',\n",
              " 'i want to know when the auditions are mander text or reply please ',\n",
              " 'not the secret namerebecca please',\n",
              " 'miss',\n",
              " 'i need to get my computer fixed',\n",
              " 'illness',\n",
              " 'all the cool people want to find for following today are english and guess the english don tweet ',\n",
              " 'no sir woulda put honey but don have any',\n",
              " 'i totally loved it ',\n",
              " 'i you helped me thru the hrdest time of my life ',\n",
              " 'sad',\n",
              " 'finally got call for marriage counseling days late ',\n",
              " 'ok then',\n",
              " 'why baby ',\n",
              " 'sick ',\n",
              " 'we re having an impromptu pool party except don know how to swim so can get in',\n",
              " 'oww',\n",
              " 'happy year ',\n",
              " 'goooooooooooood morrrrrrrrning',\n",
              " ' phew will make note in case anyone else runs into the same issue ',\n",
              " 'what about me vote every day for you ',\n",
              " 'this diet is killing me',\n",
              " 'i talk to you',\n",
              " 'bored ',\n",
              " 'e fun',\n",
              " 'so far so good but did sleep for most of those hours getting bit twitchy now',\n",
              " 'what with twatter lately either can get on or the replies don turn up ',\n",
              " 'lost my voice',\n",
              " 'hate',\n",
              " 'i ve heard this fall m waiting too ',\n",
              " 'more nightmares huggles ',\n",
              " 'i am such creeper feel disappointed because of it my cyberstalking skills the internet no more privacy',\n",
              " 'headache',\n",
              " 'happy',\n",
              " 'grabbing coffee from then making mom breakfast',\n",
              " 'going to have fun',\n",
              " 'thanks before the major chop ',\n",
              " 'd thank you ',\n",
              " 'just got up and updated my ipod',\n",
              " 'hahaha',\n",
              " 'crush',\n",
              " 'saw james carville in the store today his head is really that bald',\n",
              " 'yellow for http blip fm g',\n",
              " 'which means you re just going to have to come back to vancouver and have it our way hahah',\n",
              " 'feeling smooth',\n",
              " 'ew traffic',\n",
              " 'downloading songs while trying to sneak lil homework in too which should be my main priority not songs lol',\n",
              " 'your not alone need coffee too ',\n",
              " 'sounds like me',\n",
              " 'bad day the day you realize what mess you ve put me through will be one of the happiest days of my life ',\n",
              " 'i hate not having bike ',\n",
              " ' nesmith',\n",
              " 'this is worse than taxes ',\n",
              " 'jonas brothers live to party it rocking so hard',\n",
              " 'happy',\n",
              " 'would love to test it though ',\n",
              " 'fun night ',\n",
              " 'the exception for short dude larenz fineass tate yum',\n",
              " 'i thought wolverine was awesome ',\n",
              " 'hopefully',\n",
              " 'yes work to ',\n",
              " 'hmmm maybe that what they meant they eluded to something brand new but you know how the media is',\n",
              " 'done at the spa now meeting vic for some late lunch ',\n",
              " 'happy',\n",
              " 'always have wanted to go to oz',\n",
              " 'thx',\n",
              " 'luv',\n",
              " 'that why need to be there',\n",
              " 'okay so m dedicating my th tweet to the fact that m going to the apple store because there is huge crack on the glass screen ',\n",
              " 'if only we could ever actually be allowed to stay here and do that',\n",
              " 'let me know how that turns out ',\n",
              " 'was that sass detect as long as it isn back sass haha',\n",
              " ' ahaha',\n",
              " 'sports bar shatranjanpoli rest ph all sports bar andheri dont know whether that helps google ki jai ho',\n",
              " 'i not sleeping at all un',\n",
              " 'seriously ',\n",
              " 'i live for pain bring it on',\n",
              " 'okay m out for while back later ',\n",
              " 'g what is this powerblog challenge you keep talking about m newbie followe',\n",
              " 'died ',\n",
              " 'waiting for tish to get off got to drive my moms crv to pick her up all my myself and duckie first time',\n",
              " 'not going to well ',\n",
              " 'going to shower because don want to smell at school tomorrow',\n",
              " 'sigh you know am ',\n",
              " 'hopefully',\n",
              " 'here are free twitter tools will get you followers http short to http jijr com hulz http short to http ve org xpg ',\n",
              " 'just got home from work and is chugging down big bottle of apple juice ',\n",
              " 'g harmed',\n",
              " 'what an amazing day ',\n",
              " 'it was only once for my big brother and m done now',\n",
              " 'good news finally finished my easactive workout that has been paused for hours bad news my resistance band is torn',\n",
              " 'well good morning all what wonderful day in the neighborhood thanks for all those that are now following another this morning',\n",
              " 'were amazing tonight ',\n",
              " 'hope',\n",
              " 'it hurts too much ',\n",
              " 'i waited listening to wind blowing through the tumbleweed are none of you old enough to know what to do when someone says crackerack ',\n",
              " 'hell yeah ',\n",
              " 'him shirt at dinner do you need to ask does it actually have ville on it ',\n",
              " 'i know ',\n",
              " 'huh what the smelly noooo love alex vixon',\n",
              " 'great',\n",
              " 'happy day ',\n",
              " 'thank',\n",
              " 'happy',\n",
              " 'glad',\n",
              " 'thanks',\n",
              " 'twittering after days ',\n",
              " 'its too nice',\n",
              " 'depressed',\n",
              " 'sick ',\n",
              " 'happy mothers day people love my mom lot still',\n",
              " 'sorry',\n",
              " ' he was soooo friendly ',\n",
              " 'happy',\n",
              " 'is getting the hang of twitter ',\n",
              " 'you know your neck is jacked up when you are forced to pay for parking bc you can turn you head to parallel park in the free spaces ',\n",
              " 'i want it back now ',\n",
              " 'miss',\n",
              " 'bathing with two little angels keyla and janice ',\n",
              " 'chocked',\n",
              " 'hahahha lol true that always remember my bd but can never remember what date or even day it is',\n",
              " 'family is here hanging with them',\n",
              " ' it gorgeous out ',\n",
              " 'm worried',\n",
              " 'im not bannished ',\n",
              " 'morning if get to see it ll let you know right now m going to go see wolverine ',\n",
              " 'red top tabloids build em up knock em down',\n",
              " 'tonight in party my girls minus vita ',\n",
              " 'why not now you made me sad thought you be jumping for joy',\n",
              " 'simple my ',\n",
              " 'the pics just uploaded are the baby pics of my cats missy is now an adult and pretty little kitty but batty is in kitten heaven now',\n",
              " 'amazing',\n",
              " 'glad',\n",
              " 'i have missed them',\n",
              " ' live that what want more the better bound to be few bad eggs though but they will soon learn ',\n",
              " 'hell yeah kellynn got twitter finally ',\n",
              " 'as wort',\n",
              " 'better',\n",
              " 'ship m stuck ',\n",
              " 'cannot wait',\n",
              " 'shame',\n",
              " 'it looks like the office tv does get mlb network and it looks like mlbn will not be televising the det bal game today wieters',\n",
              " 'home empty handed no comics found today shall now indulge in my cupcakes from magnolia bakery',\n",
              " 'definitely pinched nerve ',\n",
              " 'exhausting ',\n",
              " 'i was going to go on sunday but now ve got too much going on that weekend',\n",
              " 'sorry',\n",
              " 'im sad it very hurts',\n",
              " 'before get too distracted d like to thank my new followers for taking the trouble to follow me and to my others feelin the love',\n",
              " 'i broke',\n",
              " 'not sure it didn say it was big jst saw the pics of on ur last bday you looked so pretty miss you ',\n",
              " 'sore throat planning the tet outing to marwell though good times',\n",
              " 'it was amazin',\n",
              " 'now migraine ',\n",
              " 'there ',\n",
              " ' sucks ',\n",
              " 'whens the sway sway winner announced ',\n",
              " 'k will check it out ',\n",
              " 'doing pretty well ',\n",
              " 'i want to wake up early and get coffee tomorrow today it going to be busyy day but have to keep writing booo whoo ',\n",
              " 'i miss daddy and mommy',\n",
              " 'officially depressed',\n",
              " 'i just realized that can forward text msgs with my iphone ',\n",
              " 'exciting ',\n",
              " 'that sucks ',\n",
              " 'bored',\n",
              " 'i am lost ',\n",
              " 'it a peter gordon morning and go to pieces and wanna hide go to pieces and almost die ever http blip fm yk ',\n",
              " 'bad',\n",
              " 'lmao smh that one threw me off',\n",
              " 'oh nice going ',\n",
              " 'is getting ready for work working all weekend',\n",
              " 'partying',\n",
              " 'i agree with you ',\n",
              " 'am hopeless at everything else',\n",
              " 'perfect ma',\n",
              " 'thanks ',\n",
              " 'sorry',\n",
              " 'i saw amazing heeels but they were too big',\n",
              " 'stuck',\n",
              " 'dang',\n",
              " 'i missed all ur tweets',\n",
              " 'damnit all that sucks ',\n",
              " 'my boss she moving to nyc',\n",
              " 'this is sooo crazy',\n",
              " 'some stupid ',\n",
              " 'i think need some new friends',\n",
              " 'looking forward to your gig in ireland see ya there ',\n",
              " 'please re',\n",
              " 'aww you loooove me',\n",
              " 'is hungry twitter want food ',\n",
              " 'awesome lucky you',\n",
              " 'yea should know but tell me everything ps send me direct messages telling ha',\n",
              " 'love',\n",
              " 'had great time out in the beer garden wit the boyos think the sun got to me bit though feel bit ill ',\n",
              " 'no fun',\n",
              " 'u really don think so maybe ur right lol btw what phone using think told me i might have an app for',\n",
              " 'i feel your pain ',\n",
              " 'comes home in two days',\n",
              " 'sadly',\n",
              " 'cant wait',\n",
              " 'ehhh no just check up have dentist app next week though getting my molar pulled root canal ',\n",
              " 'aww miss driving',\n",
              " 'omg wango tango was awsome love my baby for taking me',\n",
              " 'its very cool',\n",
              " 'wish',\n",
              " 'yeah real hard but know you ll get by with it smile',\n",
              " 'that not good',\n",
              " 'this has made my night way too funny ',\n",
              " 'happy',\n",
              " 'i make that same face when get home and your mom is watching soaps ',\n",
              " 'i have to go to work now ',\n",
              " 'i can believe you went and got boba without me ',\n",
              " 'and to you too how are you today ',\n",
              " 'thanks',\n",
              " ' days and counting',\n",
              " 'sorry friends',\n",
              " 'brainfreeze',\n",
              " 'just discovered shortcoming of gravity when you use twitpic integrated it doesn subtract the pic url from the character limit',\n",
              " 'my sunburn is peeling ',\n",
              " 'perky purple nail polish isn as perky when its chipped',\n",
              " 'http twitpic com sx before they put camera in the smokers pit can no longer vandalize that door without being caught ',\n",
              " 'i don have no one to cuddle with ',\n",
              " 'hate',\n",
              " ' sorry',\n",
              " 'dying',\n",
              " 'qood morninq',\n",
              " 'writing my english original writing storyyyyy and listening to little respect by erasure aaaaaah ',\n",
              " 'needs more followers',\n",
              " 'stupid job',\n",
              " 'the little wormy from labyrinth sadly passed away today but its ok as hes still around in happy ghost form',\n",
              " 'the no pants idea could be the new attempt world wide to attract business back to the airlines ',\n",
              " 'have good on',\n",
              " 'she is popular ',\n",
              " 'dosen want to',\n",
              " 'his voice is great ',\n",
              " 'i wish the birthday massacre would come to australia think they said they re thinking about it tho ',\n",
              " 'was hoping to go to red lobster this weekend',\n",
              " 'lucky',\n",
              " 'i sure do hope',\n",
              " 'congrats ',\n",
              " 'passed away',\n",
              " 'you are such amazing people ',\n",
              " 'cool',\n",
              " 'so no rice or crusty bread with the chili aawww',\n",
              " 'we are of like minds this evening my dear ',\n",
              " 'come and save me from my packing please ',\n",
              " 'yes love tea ',\n",
              " 'a mouth for sure',\n",
              " 'i finally just have hour of history at pm but went to my highschool at am to make some homework with friend',\n",
              " 'thanks ',\n",
              " 's just don entertain him ',\n",
              " 'kill me',\n",
              " 'both electronic keys stopped working there is no keyhole ',\n",
              " 'good',\n",
              " 'poor tony',\n",
              " 'goodmorning',\n",
              " 'i don really feel like',\n",
              " 'i love mine too happy mother day to your mom john taylor much love to you too',\n",
              " 'saw black snake in the garden went back for picture and it was gone',\n",
              " 'best',\n",
              " 'no waterfront anymore',\n",
              " 'loves her mum very much happy mothers day to all the wonderful mothers out there',\n",
              " 'feeling like poop ',\n",
              " 'excited',\n",
              " 'then you cry ',\n",
              " 'discovered and are sharing on reader with me and didn even know it sigh m such g reader newb ',\n",
              " 'is chilled out tonite so cannot spew venom or write funny seems like these are the only styles she has',\n",
              " 'if do please pray me lord knows need it ',\n",
              " 'aaaaaw want to live in the usa',\n",
              " 'morning tweeple',\n",
              " 'hey didn get any ',\n",
              " ' rest if you need it ',\n",
              " 'that makes my day so much better it been rough one did mention love the new photo ',\n",
              " 'i don want to sit at home',\n",
              " 'wishing',\n",
              " 'concert tonight chackin out and not coming tomorrow ',\n",
              " 'what happened thought you were coming back today ',\n",
              " 'dammit',\n",
              " 'lol ',\n",
              " 'still jealous',\n",
              " 'me at forever ethan couldn be there',\n",
              " 'sad',\n",
              " 'not easy ',\n",
              " 'wow what beautiful pictur',\n",
              " 'looks good',\n",
              " ' there are people and then there are pencils some are sharp some are not and some can be sharpened my pencil philosophy ',\n",
              " 'just about to go home m usually mr positive but this has been one of those daze well mins until tomorrow ',\n",
              " 'but you always have lee let go to paris',\n",
              " 'a nice',\n",
              " 'having lots of fun',\n",
              " 'bouncing rush makes me feel nauseous',\n",
              " 'lovely day for it',\n",
              " 'playing singstar without my fave duetter',\n",
              " 'i like',\n",
              " 'that just weird ',\n",
              " 'im good daughter',\n",
              " 'that not cool',\n",
              " 'alwas helps ',\n",
              " 'lacking ',\n",
              " 'cool',\n",
              " 'good',\n",
              " 'i think it under honeymoon by the good life either that or it under honey moon by joseph arthur ',\n",
              " 'swollen ',\n",
              " 'it was hours ago came in and it only now realised when went to buy something online',\n",
              " 'oh just referring to our lil exchange on lj with regards to twitter archive postings ',\n",
              " 'don act like don know ',\n",
              " 'best',\n",
              " ' m scared of him',\n",
              " 'missing',\n",
              " 'mean ',\n",
              " 'not doing so good ',\n",
              " 'back soon need to run to the shops and cut the grass',\n",
              " 'i up have plan to transform my bedroom today random ',\n",
              " 'missing',\n",
              " 'thats another sponsor',\n",
              " 'stuck',\n",
              " 'sad ',\n",
              " 'sorr',\n",
              " 'is home alone doing hw',\n",
              " 'live in poverty ',\n",
              " 'not going well',\n",
              " 'uploading all my bamboozle pictures of facebook',\n",
              " 'congratulations',\n",
              " 'i miss it there',\n",
              " 'woke up wanna stay in my bed',\n",
              " 'wack ',\n",
              " 'it would be great if those vips were for some acts d enjoy seeing but noooo ',\n",
              " 'wish could make it too hate my commute sometimes',\n",
              " 'hopefully can make some good tips',\n",
              " 'd there wasn a chance',\n",
              " 'hates',\n",
              " 'thanks for the support',\n",
              " 'there really no android twitter app of tweetie calibre',\n",
              " 'lovely',\n",
              " 'nyappy mother day to your mom ',\n",
              " 'yeah and im gonna take ur picture off my ipod baby ',\n",
              " 'traumatizing',\n",
              " 'lol same here wish there was way to microsize everything lol',\n",
              " 'fail ',\n",
              " 'glad',\n",
              " 'about to have dinner and then an evening of playing cards already packed and ready to head home tomorrow do we have to go home ',\n",
              " 'im allergic to cats my tonsils get swollen and they hurt what do dooo ',\n",
              " ' tomorrow will be tough ',\n",
              " 'miss',\n",
              " 'i glad',\n",
              " 'thanks',\n",
              " 'i hope',\n",
              " 'well ',\n",
              " 'nah jkin he hot so bored now',\n",
              " 'ahhh m sqeaky clean and fresh even though m wearing dirty clothes love two and half men it amazing ',\n",
              " 'yes have read them many times ',\n",
              " 'cuz you play grown up on twitter ',\n",
              " 'i am living in ignorance',\n",
              " 'nope it is telling you that you want cameo creams',\n",
              " 'awwww we re gonna miss you ',\n",
              " 'its relaxing place',\n",
              " 'he couldn do it should have cost his part ',\n",
              " 'lovely',\n",
              " ' sorry',\n",
              " 'dammit',\n",
              " 'it was amazing',\n",
              " ' barbs trying to figure out the dsl aint connecting need my google going home to my computer if it don start working soon smh',\n",
              " 'sick and sad ',\n",
              " 'seems really quiet tonight am jealous of those who are clearly having more exciting life than me off to bed think ',\n",
              " 'really wishes he had some spare cash to buy the new punch out for wii',\n",
              " 'not going',\n",
              " 'so sorry',\n",
              " 'i feel for you hope it a smooth flight be safe',\n",
              " 'can sleep ',\n",
              " 'sad ',\n",
              " 'sweet dreams',\n",
              " 'hay wats ur aim we should chat',\n",
              " ' okay kool might be touring all summer long but we can make it happen ',\n",
              " 'pain ',\n",
              " 'time to watch op then some dead like me then sleep ',\n",
              " 'having dinner with my grandma since couldn be with my mum ',\n",
              " 'haha thanks its for history and its on how the invention of television has influence america lol',\n",
              " 'yea so wassup',\n",
              " 'stupid',\n",
              " 'shopped til dropped come bac sunshine miss u',\n",
              " 'like',\n",
              " 'thank you ve had anxiety issues',\n",
              " 'around hours left until day weekend and have waaaay too much work to do ',\n",
              " 'loved ',\n",
              " 'there were attempts to somehow extend inner classes which would be close to closure can find the ref atm',\n",
              " 'yes join us all we require is cupcake donation ',\n",
              " 'hard',\n",
              " 'terrible headache and super swollen and puffy eyes dont think im going out today ugh ',\n",
              " 'can access your site ',\n",
              " 'sun is shinning at last',\n",
              " 'slowest train ever ',\n",
              " 'nup no cd either just whole bunch of zeros and ones you can have for free',\n",
              " 'my graduation day and feel like failure ',\n",
              " 'ops that lol wasnt supposed to got to twitter',\n",
              " 'i don think ve ever been so tierd in my life u',\n",
              " 'what are going to do today my girl ',\n",
              " 'why doesnt he want me anymore',\n",
              " 'bad hair day',\n",
              " 'headache',\n",
              " 'sorry',\n",
              " 'i am just okay okay like the rest of the sane population in the world hate mondays',\n",
              " 'mozart requiem ',\n",
              " 'i think am bit in love with his creations and wit but not that physically attracted to him although he has great style',\n",
              " 'thanks for another great day ',\n",
              " 'huh ',\n",
              " 'ohshnapsss is she pissed at blair as usual hahah yeeeah bake cookies',\n",
              " 'no bueno hollykins needs to feel better asap s miss you you done with uni soon aren you soproudofyo',\n",
              " 'awesome',\n",
              " 'happy',\n",
              " ' my expression watching this again http tinyurl com eqbwe',\n",
              " 'stupid',\n",
              " 'i didn want to tell you but think it your body odour',\n",
              " 'nice beta for easports still no news on the online for madden',\n",
              " 'bad',\n",
              " 'missed',\n",
              " 'unfortunately',\n",
              " 'fun',\n",
              " 'discrimination is not bad thing ',\n",
              " 'sure can talk the fabulous part though is out sorry dear',\n",
              " 'tease ',\n",
              " 'just got back from working out m feeling pretty good ',\n",
              " 'ahhh my satz blend didn save',\n",
              " 'so why should that matter bet you would be great at it do it what you love right why not go for it ',\n",
              " 'thank the heavens ',\n",
              " 'my ear are popping ',\n",
              " 'bad',\n",
              " 'no answer back ',\n",
              " 'catching up on weeks of lost and grey house is quiet again ',\n",
              " 'me smile ',\n",
              " 'i kinda sick tired',\n",
              " 'boo ',\n",
              " 'hey phillll wazzuppppp ',\n",
              " 'missed out',\n",
              " ' great ',\n",
              " 'finally gone to the beach yeaaaah ',\n",
              " 'awesome',\n",
              " 'last weekday of doing nothing school starts next week ',\n",
              " 'gorgeous girl ',\n",
              " 'hysterical',\n",
              " 'ok have to turn off all of my twitter device updates until get new battery phone goes from fully charged to dead in about hours',\n",
              " 'michelle is hot mama with chichis grande',\n",
              " 'you do rock that much',\n",
              " 'no one know likes boiled peanuts ',\n",
              " 'loved',\n",
              " 'ugh these tonsils ',\n",
              " 'please get cell phone with better camera on it your pictures are real bad quality compared to those that miley took',\n",
              " 'bless ',\n",
              " 'good fun',\n",
              " 'lost',\n",
              " 'though that isn going so well ',\n",
              " 'hoooray m hooked already',\n",
              " 'good',\n",
              " 'i agree everybody would ve been excited and then it goes ohhhh nooooo ms screws up again ',\n",
              " 'edge left me off the contributors list in this month issue ',\n",
              " 'ooo growl and yummy time coming soon for you too huh oh yeah have been hunting for combo tshirt think can find one no',\n",
              " 'im back to this index problem again',\n",
              " 'so bored at work ',\n",
              " 'hating',\n",
              " 'www myspace com fashionisthenextcity check out and started new tee limited edition in different ways check facebook group too',\n",
              " ' they being the husband or the girl ',\n",
              " 'thinking of what should do in vegas any good ideas or places that are most see ',\n",
              " 'sucks ',\n",
              " 'hi to one kiwi artist from another kiwi artis',\n",
              " 'happy mother day',\n",
              " 'oooo ok why havent you accepted my friends reque',\n",
              " 'sorry',\n",
              " 'no',\n",
              " 'love good causes',\n",
              " 'not available in my area',\n",
              " 'its friday only more hours until m free until tomorrow oh well',\n",
              " 'meeting just in time that m trying to win something prize friday ',\n",
              " 'cramps',\n",
              " 'thank you',\n",
              " ' plans didn go as followed but its ok',\n",
              " ' what did you do let me guess you skipped sports and bought new pinkish outfit ',\n",
              " 'where is the rain please come out',\n",
              " 'my pleasure',\n",
              " 'fml',\n",
              " 'funny ',\n",
              " 'grouchy',\n",
              " 'worse ',\n",
              " 'i don have the app that does it',\n",
              " 'would help me study for the aptitude tests',\n",
              " 'out for supper tonight with kurumi in minutes',\n",
              " 'cute ',\n",
              " 'loved',\n",
              " 'hi mariah',\n",
              " ' yours m not at home with my cats right now ',\n",
              " 'my inbox is still empty',\n",
              " 'i such rebel ',\n",
              " ' m sorry',\n",
              " 'nice',\n",
              " 'exam today going to get my license renewed the birthday is getting closer ',\n",
              " 'love ',\n",
              " 'thinks its gonna rain',\n",
              " 'good ',\n",
              " 'yrbook signing evryone was fun m gna miss evrything',\n",
              " 'lost',\n",
              " 'so not close enough that could run out and get one',\n",
              " 'that was stone cold crazy ',\n",
              " 'totally having austin powers withdrawl symptons and darrius withdrawl symptoms and mommy and minne withdrawl syamptoms ',\n",
              " 'they were so pretty',\n",
              " 'senior last day ',\n",
              " ' no one will help me',\n",
              " 'thanks',\n",
              " 'thanks',\n",
              " ' we re getting closer rather than further from real lobby dates chicago blogher squee ',\n",
              " 'has lost his vocie and adele is laughing at me lol and still wondering why m in college on me week off',\n",
              " 'oh sorry not getting all my replies nothing against you ',\n",
              " 'pray for my uncle ',\n",
              " ' gonna scare rachel with quarantine tonight this shall be fun',\n",
              " 'omg wanted to slap her ',\n",
              " 'watching the simpsons',\n",
              " 'very special s',\n",
              " 'great',\n",
              " 'has work very very soon way too soon ',\n",
              " 'phaket what did anneliese want to do ',\n",
              " 'mad',\n",
              " 'thanks',\n",
              " 'i hungry wife is at bodyshop party and is bringing takeaway home with her how much longer will the party go on ',\n",
              " 'such pretty baby ',\n",
              " 'invite them to your house instead',\n",
              " 'i a bit ben thai ed out',\n",
              " ' stackeoverflow',\n",
              " 'cute ',\n",
              " 'dead stopped in the express lane this would happen when choose to take it no way out now ugh hopefully this gets moving',\n",
              " ' okeefe yay you re on twitter you re my secret celeb crush too much info ',\n",
              " 'k thank',\n",
              " 'fail at life sometimes ',\n",
              " 'wish',\n",
              " ' points at the gear question just posted cant get the rest of my dreadweave set',\n",
              " 'you remind me so much of omaha girl that use to date guess it all in the jeans calvin kleins is what she wore ',\n",
              " ' he gives twitter tips hope this helps',\n",
              " 'i loved him',\n",
              " ' lol than',\n",
              " 'gorgeous ',\n",
              " 'i guess the relaxing dinner and movie is out for tonight was looking forward to that after my day at work',\n",
              " 'my laptop grew speakers now can watch charlie with the sound on',\n",
              " 'rofl uh huh',\n",
              " 'funny ',\n",
              " 'doesn that look fab ',\n",
              " 'deadlines ',\n",
              " 'terrible',\n",
              " 'irrelevant ',\n",
              " 'i too sick to go outside',\n",
              " 'good',\n",
              " 'excited',\n",
              " 'we won be home till like next month',\n",
              " 'love ',\n",
              " 'bad',\n",
              " 'screwed',\n",
              " 'just got laid off lots of people becoming unemployed',\n",
              " 'e bestttt',\n",
              " 'easties you can go there anytime',\n",
              " 'like',\n",
              " 'lemme guess you ran miles at the gym and are waking your kids up and then going to the beach and or recording studio ',\n",
              " 'i never knew dentention was so hard',\n",
              " 'fun',\n",
              " 'my nail broke haaaaaaaaate',\n",
              " 'is disappointing',\n",
              " 'yep',\n",
              " 'love',\n",
              " ' hope avalina isn a dud ',\n",
              " 'anyone want to buy me this anthropomorphic planter http tinyurl com sru only available till the st',\n",
              " 'it a beautiful day outside today shame m stuck in the office with the blinds shut to stop glare ',\n",
              " 'woke up and there was sun and then it started to rain',\n",
              " 'and the creative vado are out of stock at walmart com missed it but thanks for tweeting about',\n",
              " 'hates',\n",
              " 'lovely',\n",
              " 'flap taco was nice until the plebs came in ',\n",
              " 'celebrate',\n",
              " 'am chillaxin after busy bankholiday hope everbody had gd wkend holiday in days ',\n",
              " 'better',\n",
              " 'wow you ride hard ',\n",
              " 'check out the flyer designed for the notary and retrograde http rachellovespeace blogspot com let me know what you think',\n",
              " 'thanks welcome back ',\n",
              " 't sucks',\n",
              " 'sore head',\n",
              " 'at the office trying to solve the mystery of whose blood is that in the bathroom toilet eewwwww',\n",
              " 'awwww love him his car was soooo cute tonight love me some carl my yr old is sad now lol ',\n",
              " 'bryan hasn replied about wingnuts',\n",
              " 'watching southpark for another minutes',\n",
              " 'e amazi',\n",
              " 'lmao ha ',\n",
              " 'stupid',\n",
              " 'tried on all the shoes in new look',\n",
              " 'its too early wanna go back to sleeep',\n",
              " 'i don think am my sisters refusn to get me ticket now ',\n",
              " 'oh wow hope he ok take him the vet ',\n",
              " 'he died wait what about magic jack just read it ',\n",
              " 'i ve just woken up',\n",
              " 'love',\n",
              " 'one of the greatest dinners ever ',\n",
              " 'nooooo its raining ',\n",
              " 'shower class more class taking care of my lady friend ',\n",
              " 'great',\n",
              " 'great',\n",
              " 'goodmorning twitter oh my gosh woke up soooo nice lol oh hai thar twitterverse happy mothersday everybody',\n",
              " 'i loved',\n",
              " 'hubby went to pick up my fringe comics today store by his work that store was out of business too no comix in houston have web ',\n",
              " 'the world is just amazing ',\n",
              " 'i am completely lost ',\n",
              " ' gadgetopia need to dm you but you re not following me will send email ',\n",
              " 'cute ',\n",
              " 'got my cable set up win got my lock put on my door win feeling tad neglected fail ',\n",
              " 'silly',\n",
              " 'just had great talk with grace about how awesome god is and how he works that somehow started with how remote controls work',\n",
              " 'beasted',\n",
              " 'i ll be listening ',\n",
              " 'oh no don have to hit him up he had family emergency so there was lil delay just can wait to see them',\n",
              " 'sitting at home doing nothing gonna be like this all weekend',\n",
              " 'unsalvageable',\n",
              " 'flew brisbane lax today great flight love the lights shame about one drink limit thoug',\n",
              " 'i think should go to sleep considering hav to up on hrs ',\n",
              " 'if told you how often wash my hair you would never speak to me again',\n",
              " 'ended up inventing my own ',\n",
              " 'seems to have disappeared out of my life',\n",
              " 'happy mother day to my mom and every mom everywhere off for stroll at the beaches later hopefully ',\n",
              " 'ohhh wanna go gahhh but dunnooooooo me confuzzzledd should or not ',\n",
              " 'haha ',\n",
              " 'best',\n",
              " ' ',\n",
              " 'aww',\n",
              " 'nothing fair',\n",
              " 'i am going to see how long can do this for ',\n",
              " 'you better come here by the time count to or else bam ',\n",
              " 'prd take long time to review ',\n",
              " 'well ',\n",
              " 'i going to fail this final ',\n",
              " ' thx',\n",
              " 'how sad are you saying that m fat tears ',\n",
              " 'why thank you might just take you up on your offer',\n",
              " 'can find it anywhere ',\n",
              " 'i have major headache',\n",
              " 'ch fu',\n",
              " 'mitchel you have no idea how much want to call you but it costs loads to call from england ',\n",
              " 'stupid me ',\n",
              " 'very relaxing',\n",
              " 'yessir that is right',\n",
              " 'night ',\n",
              " 'great',\n",
              " 'sad ',\n",
              " 'too warm ',\n",
              " 'ada acara menarik lain keys to the vip di channel ttg straight yg dikasih tasks to approach strangers in the crowd hmm',\n",
              " 'well hit me and we can see it depends then',\n",
              " 'thanx',\n",
              " 'very cute',\n",
              " 'good',\n",
              " 'shower time ',\n",
              " 'coooooooool dooooooooown patience is virtue ',\n",
              " 'gotta drop off some car parts for buddy to press out then to the dentist http yfrog com v j',\n",
              " 'i cant call im at work',\n",
              " 'expensive ',\n",
              " 'so tired ',\n",
              " 'happy',\n",
              " 'am on here finally and yay seriously that made my day oh fellow hell ruler',\n",
              " 'goodnight',\n",
              " 'doesnt have hangover and is getting ready for good ol english fry up',\n",
              " 'waiting to put my story about stereo skyline up don know where to put it boooo',\n",
              " 'working now',\n",
              " 'just at starbucks with farrah ',\n",
              " ' ginniejean there a lot of mojo all over the place yes ',\n",
              " 'third date went well moving on to fourth ',\n",
              " 'mad tired but it the hols miss chomp chomp terribly ',\n",
              " 'is finally starting her assignments',\n",
              " 'good',\n",
              " 'good',\n",
              " 'glad',\n",
              " 'missing',\n",
              " 'it just had to rain on me',\n",
              " 'yeah we only went for days im trying to get back in november with my mom for super soak stars weekend',\n",
              " 'i miss guys too prob won b bk til august sumtime',\n",
              " 'okay make sure he alright kk cuidalo let him know he a got friend in us aha ',\n",
              " 'it will if do it in round about way ahve to copy the public contacts into my personal contacts first no big deal',\n",
              " 'trying to figure it out',\n",
              " ' bob ll update you had to leave him at the vet for tests and xrays ',\n",
              " 'went to see hannah montana movie on saturday loved it still cant work twitter out though',\n",
              " 'i a victim',\n",
              " 'i would slip and fall ',\n",
              " 'looking forward to it',\n",
              " 'well paisley has one of those cone things around her head so funny but feel bad for her',\n",
              " 'a stop',\n",
              " 'can wait to november for jobros concert ',\n",
              " 'been there done that it always ended up with me selling the machine and going back to my mac',\n",
              " 'but feel sorry for marcus though ',\n",
              " 'is sitting thru the boring bits in titanic waiting for the good bit to start in couple of hours',\n",
              " 'http twitpic com jken fire and urban at rock challenge',\n",
              " 'can believe',\n",
              " 'sorry ba',\n",
              " 'well now do',\n",
              " ' crazzyyyy but just this summer cuz ci are very close to rd ',\n",
              " 'i jus love doin night shifts ',\n",
              " 'morning tweeple way to early again',\n",
              " 'reupload the thing again',\n",
              " 'your updates are really amusing ',\n",
              " 'loves the fact',\n",
              " 's not bad',\n",
              " 'awesome ',\n",
              " 'rough',\n",
              " 'aww congrats to the family ',\n",
              " 'yay ',\n",
              " 'i can ',\n",
              " 'strongly agrees with jason about wolverine but not about hugh jackman sorry no kids for this mouse ',\n",
              " 'you okay bby ',\n",
              " 'goodnight ',\n",
              " 'im too late hes gone',\n",
              " 'lost my internet signal',\n",
              " 'sorry',\n",
              " 'good for you mate sadly couldnt get pissed tonight driving bad times',\n",
              " 'blood everywhere ',\n",
              " 'pulled up walmart aunt got out went in fell asleep hours later were you lol',\n",
              " 'searching my home for few things to cook them for dinner this evening it mothers day so guess who im eating with',\n",
              " 'very very cute',\n",
              " 'woke up at then fell back to sleep woke up at and back to sleep again woke up at and m staying awake morning ',\n",
              " 'great',\n",
              " 'hurt my arm ',\n",
              " ' ',\n",
              " 'tiiiiiiired going to bed ',\n",
              " 'just been in that kind of mood not reason at all lol but ll try not to be too mushy around you can behave ',\n",
              " 'i hope',\n",
              " 'keeps getting such delayed responses why is my internet so messed up ',\n",
              " 'and dont tell burnsy but no comparison between the rocky mountains and mountains in enlgland',\n",
              " 'sad ',\n",
              " 'good',\n",
              " 'i could get away with it dare me ll go buy it tomorrow',\n",
              " 'thanks man that sorted it',\n",
              " 'enjoying',\n",
              " 'favourite',\n",
              " 'ok back to packing have been sitting in car charging phone as charger was left home as well',\n",
              " 'congratulatory',\n",
              " 'sadly that not too often',\n",
              " 'good times ',\n",
              " 'the sun is not cool',\n",
              " ' that was meeeaaannn ',\n",
              " 'invisible car helps to boost recycling honest',\n",
              " 'baby baby it gonna be all right when m by your side and the whole world turns against you it when my ipod randoms bsb songs',\n",
              " 'pretty ',\n",
              " 'd really love that ',\n",
              " 'so sadly',\n",
              " ' you are kickable ',\n",
              " 'i also saw on american idol great performance see will be at windsor in june commodores won be there',\n",
              " 'nice',\n",
              " 'happy',\n",
              " 'just finished watching marley and me ',\n",
              " 'enjoying',\n",
              " 'everyone seems to love it but it felt kinda lazy and repetative to me was really disappointed ',\n",
              " 'roll on thursday',\n",
              " 'dadgum think this nations shipping needs have shut down completely still no freight for carriers out there ',\n",
              " 'cavs got lucky night lol but lebron took over and killed em another triple double',\n",
              " 'happy',\n",
              " 'my bad',\n",
              " 'forgot',\n",
              " 'as long as you have someone to make out with',\n",
              " 'thanxx',\n",
              " 'you arent following me so cant send you dm ',\n",
              " 'poorly',\n",
              " 'happy st',\n",
              " 'i picked up taco over lunch you got guitar ',\n",
              " 'i won have chance later ',\n",
              " ' up is all sold out ',\n",
              " 'hope',\n",
              " 'whoaa kinda hard that one that you think will be interesting enough to tell',\n",
              " 's you re the best',\n",
              " 'listening music home all alone lol who wants come over hang with me lol ',\n",
              " 'shut your face ',\n",
              " 'or so month put my week notice in little over week ago my last day is this friday ',\n",
              " 'oh yea mspacers my boy just hooked up my page it looks kewl at least think so and it only took him minutes www myspace com missmickey',\n",
              " 'cant wait',\n",
              " 'laavly',\n",
              " 'yes please and if you re gone might actually get some work done lol',\n",
              " 'i really getting sick ugh',\n",
              " 'stalkerishly',\n",
              " ' youtube ',\n",
              " 'calling mum too ask if she can by ice cream',\n",
              " ' having very lazy day playing xbox and drinking tea',\n",
              " 's disappointing',\n",
              " 'hopefully',\n",
              " 'my mom just texted me and told me that rodney was chasing fireflies in their backyard awwwww m miss',\n",
              " 'happy',\n",
              " 'thanks',\n",
              " 'my legs are killing me now but know it a good pain all in all ',\n",
              " 's fun ',\n",
              " 'h wish could go too',\n",
              " 'ready to go home',\n",
              " 'need to push diet to last level not too good last week lost lb better than gain',\n",
              " 'excited',\n",
              " 'my back is killing me it won keep me from dropping it low hope got someone to pick it back up tho lol',\n",
              " ' ',\n",
              " 'mad the rain got me ',\n",
              " 'i am at my grandparents place',\n",
              " 'hi from chile it deg winter coming cant wait for cali sun ',\n",
              " 'i dont feel very good',\n",
              " 'i was born there',\n",
              " 'congradts on ur show even tho wasnt there lol',\n",
              " 'damjust finished watching prison break the final break omg dont think ve cried so hard for show finally understand the finale',\n",
              " 'excuse',\n",
              " 'so glad it is friday two classes then lazy afternoon too bad it isnt nice and warm out today',\n",
              " 'good',\n",
              " 'awesome',\n",
              " 'i afraid ',\n",
              " 'i not having the best day',\n",
              " ' aid goodnight ',\n",
              " 'welcome',\n",
              " 'thanks',\n",
              " 'thanks ',\n",
              " 'feeling all homely off out with freddie for fun packed day',\n",
              " 'haha will remember that ',\n",
              " 'will do hee after exams ll give plenty of shows haha hopeless me',\n",
              " 'i sorry',\n",
              " 'awww it does remind me of getting ready for the ball ',\n",
              " 'just couldn remember ',\n",
              " ' bishop sez need to get to look at my flights again will email ur work tonite',\n",
              " 'i wish had the battery life of an iphone ',\n",
              " 'happy',\n",
              " 'omg ',\n",
              " 'better',\n",
              " 'work in that heat is horrible ',\n",
              " 'd turned me human',\n",
              " 'm glad',\n",
              " ' starr yep the hawkesbury classic starts at windsor home of said dj',\n",
              " 'thanks savvv',\n",
              " 'my sleep pattern is screwed',\n",
              " 'isn easy to find',\n",
              " 'may the fourth be with you happy star wars day',\n",
              " ' just not lucky never have been ',\n",
              " 'taking care of yucky stuff ',\n",
              " ...]"
            ]
          },
          "metadata": {
            "tags": []
          },
          "execution_count": 86
        }
      ]
    },
    {
      "cell_type": "code",
      "metadata": {
        "id": "8GOUEOxPkISo"
      },
      "source": [
        "#Finally, we need to divide our dataset into train and test sets.\n",
        "X_train, X_test, y_train, y_test = train_test_split(X, y, test_size=0.25, random_state=42)"
      ],
      "execution_count": null,
      "outputs": []
    },
    {
      "cell_type": "markdown",
      "metadata": {
        "id": "90zZWFzNkIS7"
      },
      "source": [
        "# Preparing the Embedding Layer"
      ]
    },
    {
      "cell_type": "code",
      "metadata": {
        "id": "5MpCeXnwkIS7"
      },
      "source": [
        "#we will use the Tokenizer class from the keras.preprocessing.\n",
        "#text module to create a word-to-index dictionary. \n",
        "#In the word-to-index dictionary, each word in the corpus is used as a key\n",
        "#, while a corresponding unique index is used as the value for the key. Execute the following script:\n",
        "#######\n",
        "\n",
        "tokenizer = Tokenizer(num_words=5000)\n",
        "tokenizer.fit_on_texts(X_train)\n",
        "\n",
        "X_train = tokenizer.texts_to_sequences(X_train)\n",
        "X_test = tokenizer.texts_to_sequences(X_test)"
      ],
      "execution_count": null,
      "outputs": []
    },
    {
      "cell_type": "code",
      "metadata": {
        "id": "bsqa8_8I2I16",
        "colab": {
          "base_uri": "https://localhost:8080/",
          "height": 34
        },
        "outputId": "3bf44bac-7648-420f-e847-9f32afadf48f"
      },
      "source": [
        "len(X_train)"
      ],
      "execution_count": null,
      "outputs": [
        {
          "output_type": "execute_result",
          "data": {
            "text/plain": [
              "20610"
            ]
          },
          "metadata": {
            "tags": []
          },
          "execution_count": 89
        }
      ]
    },
    {
      "cell_type": "code",
      "metadata": {
        "id": "k0E6xRX_3CjD",
        "colab": {
          "base_uri": "https://localhost:8080/",
          "height": 34
        },
        "outputId": "927667b7-e41d-44b3-aa2d-a78f2ea016dd"
      },
      "source": [
        "len(X)"
      ],
      "execution_count": null,
      "outputs": [
        {
          "output_type": "execute_result",
          "data": {
            "text/plain": [
              "4693"
            ]
          },
          "metadata": {
            "tags": []
          },
          "execution_count": 31
        }
      ]
    },
    {
      "cell_type": "code",
      "metadata": {
        "id": "8WorLlCg24Fk",
        "colab": {
          "base_uri": "https://localhost:8080/",
          "height": 34
        },
        "outputId": "b114abf0-dab4-4d49-bd8b-6a0d72775d61"
      },
      "source": [
        "len(X_test)"
      ],
      "execution_count": null,
      "outputs": [
        {
          "output_type": "execute_result",
          "data": {
            "text/plain": [
              "1174"
            ]
          },
          "metadata": {
            "tags": []
          },
          "execution_count": 32
        }
      ]
    },
    {
      "cell_type": "code",
      "metadata": {
        "id": "UPEpvBrwkITE"
      },
      "source": [
        "# set the maximum size of each list to 100. Adding 1 because of reserved 0 index\n",
        "vocab_size = len(tokenizer.word_index) + 1\n",
        "maxlen = 100\n",
        "X_train = pad_sequences(X_train, padding='post', maxlen=maxlen)\n",
        "X_test = pad_sequences(X_test, padding='post', maxlen=maxlen)"
      ],
      "execution_count": null,
      "outputs": []
    },
    {
      "cell_type": "code",
      "metadata": {
        "id": "byRl6Tjg-qqi",
        "colab": {
          "base_uri": "https://localhost:8080/",
          "height": 34
        },
        "outputId": "2496dc73-c1ac-4b85-f505-ec849c11699e"
      },
      "source": [
        "vocab_size"
      ],
      "execution_count": null,
      "outputs": [
        {
          "output_type": "execute_result",
          "data": {
            "text/plain": [
              "14132"
            ]
          },
          "metadata": {
            "tags": []
          },
          "execution_count": 93
        }
      ]
    },
    {
      "cell_type": "code",
      "metadata": {
        "id": "t1a-2bqjAyB8",
        "colab": {
          "base_uri": "https://localhost:8080/",
          "height": 34
        },
        "outputId": "51bab6ce-f1a1-4713-84d2-48bae7fb4716"
      },
      "source": [
        "len(X_train)"
      ],
      "execution_count": null,
      "outputs": [
        {
          "output_type": "execute_result",
          "data": {
            "text/plain": [
              "20610"
            ]
          },
          "metadata": {
            "tags": []
          },
          "execution_count": 94
        }
      ]
    },
    {
      "cell_type": "code",
      "metadata": {
        "id": "Fyw1R2WwAye-"
      },
      "source": [
        ""
      ],
      "execution_count": null,
      "outputs": []
    },
    {
      "cell_type": "code",
      "metadata": {
        "id": "0QOvAGVokITH",
        "colab": {
          "base_uri": "https://localhost:8080/",
          "height": 241
        },
        "outputId": "2812789e-3d42-49c7-9cfa-294a68c0426f"
      },
      "source": [
        "!pip install glove_python"
      ],
      "execution_count": null,
      "outputs": [
        {
          "output_type": "stream",
          "text": [
            "Collecting glove_python\n",
            "\u001b[?25l  Downloading https://files.pythonhosted.org/packages/3e/79/7e7e548dd9dcb741935d031117f4bed133276c2a047aadad42f1552d1771/glove_python-0.1.0.tar.gz (263kB)\n",
            "\u001b[K     |████████████████████████████████| 266kB 3.4MB/s \n",
            "\u001b[?25hRequirement already satisfied: numpy in /usr/local/lib/python3.6/dist-packages (from glove_python) (1.18.5)\n",
            "Requirement already satisfied: scipy in /usr/local/lib/python3.6/dist-packages (from glove_python) (1.4.1)\n",
            "Building wheels for collected packages: glove-python\n",
            "  Building wheel for glove-python (setup.py) ... \u001b[?25l\u001b[?25hdone\n",
            "  Created wheel for glove-python: filename=glove_python-0.1.0-cp36-cp36m-linux_x86_64.whl size=700280 sha256=267ed567c8834f80f1d7a3c69e219b2b2ff3740bed1ed128772c8e5a15b0646a\n",
            "  Stored in directory: /root/.cache/pip/wheels/88/4b/6d/10c0d2ad32c9d9d68beec9694a6f0b6e83ab1662a90a089a4b\n",
            "Successfully built glove-python\n",
            "Installing collected packages: glove-python\n",
            "Successfully installed glove-python-0.1.0\n"
          ],
          "name": "stdout"
        }
      ]
    },
    {
      "cell_type": "code",
      "metadata": {
        "id": "tF8C9YPXkITJ"
      },
      "source": [
        "from numpy import array\n",
        "from numpy import asarray\n",
        "from numpy import zeros\n",
        "\n",
        "embeddings_dictionary = dict()\n",
        "glove_file = open('/content/glove.6B.100d.txt', encoding=\"utf8\")\n",
        "\n",
        "for line in glove_file:\n",
        "    records = line.split()\n",
        "    word = records[0]\n",
        "    vector_dimensions = asarray(records[1:], dtype='float32')\n",
        "    embeddings_dictionary [word] = vector_dimensions\n",
        "glove_file.close()\n",
        "\n",
        "#We will use GloVe embeddings to create our feature matrix. \n",
        "#In the following script we load the GloVe word embeddings \n",
        "#and create a dictionary that will contain words as keys and their corresponding embedding list as values."
      ],
      "execution_count": null,
      "outputs": []
    },
    {
      "cell_type": "code",
      "metadata": {
        "id": "S2UEgUO_kITM"
      },
      "source": [
        "#Finally, we will create an embedding matrix where each row number will correspond to the index of the word in the corpus.\n",
        "#The matrix will have 100 columns where each column will contain the GloVe word embeddings for the words in our corpus."
      ],
      "execution_count": null,
      "outputs": []
    },
    {
      "cell_type": "code",
      "metadata": {
        "id": "ZMrxZaahkITP"
      },
      "source": [
        "embedding_matrix = zeros((vocab_size, 100))\n",
        "for word, index in tokenizer.word_index.items():\n",
        "    embedding_vector = embeddings_dictionary.get(word)\n",
        "    if embedding_vector is not None:\n",
        "        embedding_matrix[index] = embedding_vector"
      ],
      "execution_count": null,
      "outputs": []
    },
    {
      "cell_type": "code",
      "metadata": {
        "id": "wLW6J74hkITS"
      },
      "source": [
        "#After execute the above script, we will see that embedding_matrix will contain 14945 rows\n",
        "#(one for each word in the corpus). Now we are ready to create our deep learning models."
      ],
      "execution_count": null,
      "outputs": []
    },
    {
      "cell_type": "code",
      "metadata": {
        "id": "KL_SeG8akITX",
        "colab": {
          "base_uri": "https://localhost:8080/",
          "height": 34
        },
        "outputId": "f6aa65c9-52f3-409c-abb5-0ed0074696b2"
      },
      "source": [
        "embedding_matrix.shape "
      ],
      "execution_count": null,
      "outputs": [
        {
          "output_type": "execute_result",
          "data": {
            "text/plain": [
              "(14132, 100)"
            ]
          },
          "metadata": {
            "tags": []
          },
          "execution_count": 97
        }
      ]
    },
    {
      "cell_type": "code",
      "metadata": {
        "id": "B8b8KaHAkITa",
        "colab": {
          "base_uri": "https://localhost:8080/",
          "height": 238
        },
        "outputId": "9f4f6db9-a2a9-4835-84d8-d22a41cc78eb"
      },
      "source": [
        "embedding_matrix"
      ],
      "execution_count": null,
      "outputs": [
        {
          "output_type": "execute_result",
          "data": {
            "text/plain": [
              "array([[ 0.        ,  0.        ,  0.        , ...,  0.        ,\n",
              "         0.        ,  0.        ],\n",
              "       [-0.18970001,  0.050024  ,  0.19084001, ..., -0.39804   ,\n",
              "         0.47646999, -0.15983   ],\n",
              "       [-0.038194  , -0.24487001,  0.72812003, ..., -0.1459    ,\n",
              "         0.82779998,  0.27061999],\n",
              "       ...,\n",
              "       [ 0.14613999, -0.25102001,  0.23106   , ..., -0.051165  ,\n",
              "        -0.33289   ,  0.29091999],\n",
              "       [ 0.        ,  0.        ,  0.        , ...,  0.        ,\n",
              "         0.        ,  0.        ],\n",
              "       [ 0.        ,  0.        ,  0.        , ...,  0.        ,\n",
              "         0.        ,  0.        ]])"
            ]
          },
          "metadata": {
            "tags": []
          },
          "execution_count": 46
        }
      ]
    },
    {
      "cell_type": "markdown",
      "metadata": {
        "id": "iubT8hOIkITd"
      },
      "source": [
        "# Text Classification with Simple Neural Network"
      ]
    },
    {
      "cell_type": "code",
      "metadata": {
        "id": "s6yYobX4kITe"
      },
      "source": [
        "model = Sequential()\n",
        "embedding_layer = Embedding(vocab_size, 100, weights=[embedding_matrix], input_length=maxlen , trainable=False)\n",
        "model.add(embedding_layer)\n",
        "model.add(Flatten())\n",
        "model.add(Dense(1, activation='sigmoid'))"
      ],
      "execution_count": null,
      "outputs": []
    },
    {
      "cell_type": "code",
      "metadata": {
        "id": "CfF_zTdhkITj",
        "colab": {
          "base_uri": "https://localhost:8080/",
          "height": 272
        },
        "outputId": "ed5ab1e9-f85e-4315-e0f3-3921c56101bf"
      },
      "source": [
        "model.compile(optimizer='adam', loss='binary_crossentropy', metrics=['acc'])\n",
        "print(model.summary())"
      ],
      "execution_count": null,
      "outputs": [
        {
          "output_type": "stream",
          "text": [
            "Model: \"sequential_3\"\n",
            "_________________________________________________________________\n",
            "Layer (type)                 Output Shape              Param #   \n",
            "=================================================================\n",
            "embedding_3 (Embedding)      (None, 100, 100)          1413200   \n",
            "_________________________________________________________________\n",
            "flatten_1 (Flatten)          (None, 10000)             0         \n",
            "_________________________________________________________________\n",
            "dense_3 (Dense)              (None, 1)                 10001     \n",
            "=================================================================\n",
            "Total params: 1,423,201\n",
            "Trainable params: 10,001\n",
            "Non-trainable params: 1,413,200\n",
            "_________________________________________________________________\n",
            "None\n"
          ],
          "name": "stdout"
        }
      ]
    },
    {
      "cell_type": "code",
      "metadata": {
        "id": "eDjM09W6u42Q"
      },
      "source": [
        "#Since there are 1413200 words in our corpus \n",
        "#and each word is represented as a 100-dimensional vector, \n",
        "#the number of trainable parameter will be 1413200x100 in the embedding layer. \n",
        "#In the flattening layer, we simply multiply rows and column. \n",
        "#Finally in the dense layer the number of parameters are 10000 (from the flattening layer) \n",
        "#and 1 for the bias parameter, for a total of 10001."
      ],
      "execution_count": null,
      "outputs": []
    },
    {
      "cell_type": "markdown",
      "metadata": {
        "id": "SQ6bLP02vRQb"
      },
      "source": [
        "**Train our model** "
      ]
    },
    {
      "cell_type": "code",
      "metadata": {
        "id": "2hEY7_5ekITs",
        "colab": {
          "base_uri": "https://localhost:8080/",
          "height": 221
        },
        "outputId": "08f72c02-ec64-4ef0-e056-0cec2130dab2"
      },
      "source": [
        "history = model.fit(X_train, y_train, batch_size=128, epochs=6, verbose=1, validation_split=0.25)"
      ],
      "execution_count": null,
      "outputs": [
        {
          "output_type": "stream",
          "text": [
            "Epoch 1/6\n",
            "121/121 [==============================] - 1s 5ms/step - loss: 0.2626 - acc: 0.4861 - val_loss: 0.1125 - val_acc: 0.5026\n",
            "Epoch 2/6\n",
            "121/121 [==============================] - 1s 4ms/step - loss: -0.0827 - acc: 0.4955 - val_loss: -0.0888 - val_acc: 0.5013\n",
            "Epoch 3/6\n",
            "121/121 [==============================] - 1s 4ms/step - loss: -0.2986 - acc: 0.4978 - val_loss: -0.2424 - val_acc: 0.4908\n",
            "Epoch 4/6\n",
            "121/121 [==============================] - 1s 4ms/step - loss: -0.4866 - acc: 0.4976 - val_loss: -0.3953 - val_acc: 0.5016\n",
            "Epoch 5/6\n",
            "121/121 [==============================] - 0s 4ms/step - loss: -0.6662 - acc: 0.4996 - val_loss: -0.5281 - val_acc: 0.4923\n",
            "Epoch 6/6\n",
            "121/121 [==============================] - 1s 4ms/step - loss: -0.8393 - acc: 0.4974 - val_loss: -0.6711 - val_acc: 0.5051\n"
          ],
          "name": "stdout"
        }
      ]
    },
    {
      "cell_type": "code",
      "metadata": {
        "id": "ik0GxD3CkITx",
        "colab": {
          "base_uri": "https://localhost:8080/",
          "height": 34
        },
        "outputId": "494e6cb4-b8bc-44c9-940c-b89744232ec3"
      },
      "source": [
        "score = model.evaluate(X_test, y_test, verbose=1)"
      ],
      "execution_count": null,
      "outputs": [
        {
          "output_type": "stream",
          "text": [
            "215/215 [==============================] - 0s 2ms/step - loss: -0.7992 - acc: 0.4898\n"
          ],
          "name": "stdout"
        }
      ]
    },
    {
      "cell_type": "code",
      "metadata": {
        "id": "fY3CP79VkIT3",
        "colab": {
          "base_uri": "https://localhost:8080/",
          "height": 51
        },
        "outputId": "01f74edf-3518-41cb-e6ac-c5f46f137d93"
      },
      "source": [
        "print(\"Test Score:\", score[0])\n",
        "print(\"Test Accuracy:\", score[1])"
      ],
      "execution_count": null,
      "outputs": [
        {
          "output_type": "stream",
          "text": [
            "Test Score: -0.7992162704467773\n",
            "Test Accuracy: 0.4898107647895813\n"
          ],
          "name": "stdout"
        }
      ]
    },
    {
      "cell_type": "code",
      "metadata": {
        "id": "yvEyHr-NkIT9",
        "colab": {
          "base_uri": "https://localhost:8080/",
          "height": 573
        },
        "outputId": "6650edaa-9bd5-455b-9432-d175edb33ae2"
      },
      "source": [
        "import matplotlib.pyplot as plt\n",
        "plt.plot(history.history['acc'])\n",
        "plt.plot(history.history['val_acc'])\n",
        "plt.title('model accuracy')\n",
        "plt.ylabel('accuracy')\n",
        "plt.xlabel('Epoch')\n",
        "plt.legend(['train','test'], loc='upper left')\n",
        "plt.show()\n",
        "plt.plot(history.history['loss'])\n",
        "plt.plot(history.history['val_loss'])\n",
        "plt.title('model loss')\n",
        "plt.ylabel('loss')\n",
        "plt.xlabel('epoch')\n",
        "plt.legend(['train','test'], loc='upper left')\n",
        "plt.show()"
      ],
      "execution_count": null,
      "outputs": [
        {
          "output_type": "display_data",
          "data": {
            "image/png": "[encoded data removed]",
            "text/plain": [
              "<Figure size 432x288 with 1 Axes>"
            ]
          },
          "metadata": {
            "tags": [],
            "needs_background": "light"
          }
        },
        {
          "output_type": "display_data",
          "data": {
            "image/png": "[encoded data removed]",
            "text/plain": [
              "<Figure size 432x288 with 1 Axes>"
            ]
          },
          "metadata": {
            "tags": [],
            "needs_background": "light"
          }
        }
      ]
    },
    {
      "cell_type": "markdown",
      "metadata": {
        "id": "aKiXYtaNkIUB"
      },
      "source": [
        "# Text Classification with a Convolutional Neural Network"
      ]
    },
    {
      "cell_type": "code",
      "metadata": {
        "id": "kZ7eBYJ-kIUB"
      },
      "source": [
        "import numpy\n",
        "from keras.models import Sequential\n",
        "from keras.layers.convolutional import Conv1D\n",
        "numpy.random.seed(7)\n",
        "\n",
        "model = Sequential()\n",
        "\n",
        "embedding_layer = Embedding(vocab_size, 100, weights=[embedding_matrix], input_length=maxlen , trainable=False)\n",
        "model.add(embedding_layer)\n",
        "\n",
        "model.add(Conv1D(128, 5, activation='relu'))\n",
        "model.add(GlobalMaxPooling1D())\n",
        "model.add(Dense(1, activation='sigmoid'))\n",
        "model.compile(optimizer='adam', loss='binary_crossentropy', metrics=['acc'])"
      ],
      "execution_count": null,
      "outputs": []
    },
    {
      "cell_type": "code",
      "metadata": {
        "id": "-w7AgPPFkIUE",
        "colab": {
          "base_uri": "https://localhost:8080/",
          "height": 306
        },
        "outputId": "e30949cd-631b-469d-8687-b0c994142253"
      },
      "source": [
        "\n",
        "print(model.summary())"
      ],
      "execution_count": null,
      "outputs": [
        {
          "output_type": "stream",
          "text": [
            "Model: \"sequential_4\"\n",
            "_________________________________________________________________\n",
            "Layer (type)                 Output Shape              Param #   \n",
            "=================================================================\n",
            "embedding_4 (Embedding)      (None, 100, 100)          1413200   \n",
            "_________________________________________________________________\n",
            "conv1d_1 (Conv1D)            (None, 96, 128)           64128     \n",
            "_________________________________________________________________\n",
            "global_max_pooling1d_1 (Glob (None, 128)               0         \n",
            "_________________________________________________________________\n",
            "dense_4 (Dense)              (None, 1)                 129       \n",
            "=================================================================\n",
            "Total params: 1,477,457\n",
            "Trainable params: 64,257\n",
            "Non-trainable params: 1,413,200\n",
            "_________________________________________________________________\n",
            "None\n"
          ],
          "name": "stdout"
        }
      ]
    },
    {
      "cell_type": "code",
      "metadata": {
        "id": "zdElvKR0kIUH",
        "colab": {
          "base_uri": "https://localhost:8080/",
          "height": 394
        },
        "outputId": "cbdaa76a-2842-47b8-f29d-c28b3f87d534"
      },
      "source": [
        "history = model.fit(X_train, y_train, batch_size=128, epochs=10, verbose=1, validation_split=0.2)\n",
        "\n",
        "score = model.evaluate(X_test, y_test, verbose=1)"
      ],
      "execution_count": null,
      "outputs": [
        {
          "output_type": "stream",
          "text": [
            "Epoch 1/10\n",
            "129/129 [==============================] - 12s 92ms/step - loss: -1.4005 - acc: 0.4913 - val_loss: -3.4422 - val_acc: 0.4765\n",
            "Epoch 2/10\n",
            "129/129 [==============================] - 12s 91ms/step - loss: -8.6711 - acc: 0.4856 - val_loss: -12.7925 - val_acc: 0.5218\n",
            "Epoch 3/10\n",
            "129/129 [==============================] - 12s 89ms/step - loss: -23.3239 - acc: 0.4840 - val_loss: -28.8107 - val_acc: 0.5257\n",
            "Epoch 4/10\n",
            "129/129 [==============================] - 11s 89ms/step - loss: -45.8612 - acc: 0.4830 - val_loss: -51.3909 - val_acc: 0.5209\n",
            "Epoch 5/10\n",
            "129/129 [==============================] - 12s 90ms/step - loss: -76.1808 - acc: 0.4851 - val_loss: -80.7924 - val_acc: 0.4816\n",
            "Epoch 6/10\n",
            "129/129 [==============================] - 11s 89ms/step - loss: -114.6383 - acc: 0.4829 - val_loss: -117.8721 - val_acc: 0.5032\n",
            "Epoch 7/10\n",
            "129/129 [==============================] - 11s 89ms/step - loss: -161.1928 - acc: 0.4858 - val_loss: -161.0817 - val_acc: 0.4915\n",
            "Epoch 8/10\n",
            "129/129 [==============================] - 12s 90ms/step - loss: -215.6973 - acc: 0.4837 - val_loss: -211.4883 - val_acc: 0.5024\n",
            "Epoch 9/10\n",
            "129/129 [==============================] - 12s 89ms/step - loss: -277.6997 - acc: 0.4859 - val_loss: -265.4890 - val_acc: 0.4740\n",
            "Epoch 10/10\n",
            "129/129 [==============================] - 12s 90ms/step - loss: -346.6285 - acc: 0.4847 - val_loss: -329.6802 - val_acc: 0.4937\n",
            "215/215 [==============================] - 2s 9ms/step - loss: -363.7861 - acc: 0.4719\n"
          ],
          "name": "stdout"
        }
      ]
    },
    {
      "cell_type": "code",
      "metadata": {
        "id": "W3nWLG9EkIUK",
        "colab": {
          "base_uri": "https://localhost:8080/",
          "height": 51
        },
        "outputId": "2417a654-69c7-40cc-d756-1bd6cecb92f2"
      },
      "source": [
        "print(\"Test Score:\", score[0])\n",
        "print(\"Test Accuracy:\", score[1])\n"
      ],
      "execution_count": null,
      "outputs": [
        {
          "output_type": "stream",
          "text": [
            "Test Score: -363.7861022949219\n",
            "Test Accuracy: 0.471906840801239\n"
          ],
          "name": "stdout"
        }
      ]
    },
    {
      "cell_type": "code",
      "metadata": {
        "id": "Whs0Z-4bkIUP",
        "colab": {
          "base_uri": "https://localhost:8080/",
          "height": 573
        },
        "outputId": "936b167b-8c7e-4925-fd3a-77d1f1575d3e"
      },
      "source": [
        "import matplotlib.pyplot as plt\n",
        "\n",
        "plt.plot(history.history['acc'])\n",
        "plt.plot(history.history['val_acc'])\n",
        "\n",
        "plt.title('model accuracy')\n",
        "plt.ylabel('accuracy')\n",
        "plt.xlabel('epoch')\n",
        "plt.legend(['train','test'], loc = 'upper left')\n",
        "plt.show()\n",
        "\n",
        "plt.plot(history.history['loss'])\n",
        "plt.plot(history.history['val_loss'])\n",
        "\n",
        "plt.title('model loss')\n",
        "plt.ylabel('loss')\n",
        "plt.xlabel('epoch')\n",
        "plt.legend(['train','test'], loc = 'upper left')\n",
        "plt.show()"
      ],
      "execution_count": null,
      "outputs": [
        {
          "output_type": "display_data",
          "data": {
            "image/png": "[encoded data removed]",
            "text/plain": [
              "<Figure size 432x288 with 1 Axes>"
            ]
          },
          "metadata": {
            "tags": [],
            "needs_background": "light"
          }
        },
        {
          "output_type": "display_data",
          "data": {
            "image/png": "[encoded data removed]",
            "text/plain": [
              "<Figure size 432x288 with 1 Axes>"
            ]
          },
          "metadata": {
            "tags": [],
            "needs_background": "light"
          }
        }
      ]
    },
    {
      "cell_type": "code",
      "metadata": {
        "id": "yYzNJHcckIUS"
      },
      "source": [
        "#You can clearly see the loss and accuracy differences between train and test sets.\n",
        "\n",
        "#Let's now train our third deep learning model, which is a recurrent neural network,\n",
        "#and see if we can get rid of the overfitting."
      ],
      "execution_count": null,
      "outputs": []
    },
    {
      "cell_type": "markdown",
      "metadata": {
        "id": "Yn8AHumlkIUZ"
      },
      "source": [
        "# Text Classification with Recurrent Neural Network (LSTM)"
      ]
    },
    {
      "cell_type": "code",
      "metadata": {
        "id": "Hw5H9h6hkIUc"
      },
      "source": [
        "#Recurrent neural network is a type of neural networks that is proven to work well with sequence data. \n",
        "#Since text is actually a sequence of words, a recurrent neural network is an automatic choice to solve text-related problems.\n",
        "#In this section, we will use an LSTM (Long Short Term Memory network) which is a variant of RNN, to solve sentiment classification problem.\n",
        "#Once again, execute the code until the word embedding section and after that run the following piece of code."
      ],
      "execution_count": null,
      "outputs": []
    },
    {
      "cell_type": "code",
      "metadata": {
        "id": "7EBXoivkkIUg"
      },
      "source": [
        "from keras.layers.core import Dense, Dropout\n",
        "from keras.layers.recurrent import LSTM\n",
        "\n",
        "model = Sequential()\n",
        "embedding_layer = Embedding(vocab_size, 100, weights=[embedding_matrix], input_length=maxlen , trainable=False)\n",
        "model.add(embedding_layer)\n",
        "model.add(LSTM(128))\n",
        "\n",
        "model.add(Dense(1, activation='sigmoid'))\n",
        "model.compile(optimizer='adam', loss='binary_crossentropy', metrics=['acc'])"
      ],
      "execution_count": null,
      "outputs": []
    },
    {
      "cell_type": "code",
      "metadata": {
        "id": "Xo6hKS7dkIUm",
        "colab": {
          "base_uri": "https://localhost:8080/",
          "height": 272
        },
        "outputId": "3da45cbe-6fde-414c-9dd2-807e2360a375"
      },
      "source": [
        "print(model.summary())"
      ],
      "execution_count": null,
      "outputs": [
        {
          "output_type": "stream",
          "text": [
            "Model: \"sequential_5\"\n",
            "_________________________________________________________________\n",
            "Layer (type)                 Output Shape              Param #   \n",
            "=================================================================\n",
            "embedding_5 (Embedding)      (None, 100, 100)          1413200   \n",
            "_________________________________________________________________\n",
            "lstm_1 (LSTM)                (None, 128)               117248    \n",
            "_________________________________________________________________\n",
            "dense_5 (Dense)              (None, 1)                 129       \n",
            "=================================================================\n",
            "Total params: 1,530,577\n",
            "Trainable params: 117,377\n",
            "Non-trainable params: 1,413,200\n",
            "_________________________________________________________________\n",
            "None\n"
          ],
          "name": "stdout"
        }
      ]
    },
    {
      "cell_type": "code",
      "metadata": {
        "id": "NfOauCnQkIUq",
        "colab": {
          "base_uri": "https://localhost:8080/",
          "height": 394
        },
        "outputId": "eb1423d3-a68d-4431-e5df-2e615c70fa79"
      },
      "source": [
        "history = model.fit(X_train, y_train, batch_size=128, epochs=10, verbose=1, validation_split=0.2)\n",
        "score = model.evaluate(X_test, y_test, verbose=1)"
      ],
      "execution_count": null,
      "outputs": [
        {
          "output_type": "stream",
          "text": [
            "Epoch 1/10\n",
            "129/129 [==============================] - 43s 334ms/step - loss: 0.2704 - acc: 0.4205 - val_loss: 1.3270 - val_acc: 0.3222\n",
            "Epoch 2/10\n",
            "129/129 [==============================] - 42s 328ms/step - loss: 0.5161 - acc: 0.3110 - val_loss: 0.4004 - val_acc: 0.3222\n",
            "Epoch 3/10\n",
            "129/129 [==============================] - 42s 324ms/step - loss: 0.3633 - acc: 0.3110 - val_loss: 0.4134 - val_acc: 0.3222\n",
            "Epoch 4/10\n",
            "129/129 [==============================] - 42s 325ms/step - loss: 0.3633 - acc: 0.3110 - val_loss: 0.3992 - val_acc: 0.3222\n",
            "Epoch 5/10\n",
            "129/129 [==============================] - 42s 324ms/step - loss: 0.3637 - acc: 0.3110 - val_loss: 0.4110 - val_acc: 0.3222\n",
            "Epoch 6/10\n",
            "129/129 [==============================] - 42s 325ms/step - loss: 0.3630 - acc: 0.3110 - val_loss: 0.4014 - val_acc: 0.3222\n",
            "Epoch 7/10\n",
            "129/129 [==============================] - 42s 324ms/step - loss: 0.3645 - acc: 0.3110 - val_loss: 0.4028 - val_acc: 0.3222\n",
            "Epoch 8/10\n",
            "129/129 [==============================] - 43s 330ms/step - loss: 0.3644 - acc: 0.3110 - val_loss: 0.4031 - val_acc: 0.3222\n",
            "Epoch 9/10\n",
            "129/129 [==============================] - 41s 321ms/step - loss: 0.3646 - acc: 0.3110 - val_loss: 0.4005 - val_acc: 0.3222\n",
            "Epoch 10/10\n",
            "129/129 [==============================] - 43s 333ms/step - loss: 0.3648 - acc: 0.3110 - val_loss: 0.3992 - val_acc: 0.3222\n",
            "215/215 [==============================] - 7s 31ms/step - loss: 0.3702 - acc: 0.3096\n"
          ],
          "name": "stdout"
        }
      ]
    },
    {
      "cell_type": "code",
      "metadata": {
        "id": "8aqoQ1agkIUu",
        "colab": {
          "base_uri": "https://localhost:8080/",
          "height": 51
        },
        "outputId": "0bf2fb99-9254-45cc-c003-66bd5097c815"
      },
      "source": [
        "print(\"Test Score:\", score[0])\n",
        "print(\"Test Accuracy:\", score[1])"
      ],
      "execution_count": null,
      "outputs": [
        {
          "output_type": "stream",
          "text": [
            "Test Score: 0.3702412247657776\n",
            "Test Accuracy: 0.30960699915885925\n"
          ],
          "name": "stdout"
        }
      ]
    },
    {
      "cell_type": "code",
      "metadata": {
        "id": "5ffqX8LqkIUy",
        "colab": {
          "base_uri": "https://localhost:8080/",
          "height": 573
        },
        "outputId": "6040b015-07fd-4af5-9738-8b292c5b93f0"
      },
      "source": [
        "import matplotlib.pyplot as plt\n",
        "\n",
        "plt.plot(history.history['acc'])\n",
        "plt.plot(history.history['val_acc'])\n",
        "\n",
        "plt.title('model accuracy')\n",
        "plt.ylabel('accuracy')\n",
        "plt.xlabel('epoch')\n",
        "plt.legend(['train','test'], loc='upper left')\n",
        "plt.show()\n",
        "\n",
        "plt.plot(history.history['loss'])\n",
        "plt.plot(history.history['val_loss'])\n",
        "\n",
        "plt.title('model loss')\n",
        "plt.ylabel('loss')\n",
        "plt.xlabel('epoch')\n",
        "plt.legend(['train','test'], loc='upper left')\n",
        "plt.show()"
      ],
      "execution_count": null,
      "outputs": [
        {
          "output_type": "display_data",
          "data": {
            "image/png": "[encoded data removed]",
            "text/plain": [
              "<Figure size 432x288 with 1 Axes>"
            ]
          },
          "metadata": {
            "tags": [],
            "needs_background": "light"
          }
        },
        {
          "output_type": "display_data",
          "data": {
            "image/png": "[encoded data removed]",
            "text/plain": [
              "<Figure size 432x288 with 1 Axes>"
            ]
          },
          "metadata": {
            "tags": [],
            "needs_background": "light"
          }
        }
      ]
    },
    {
      "cell_type": "code",
      "metadata": {
        "id": "yrSIySc3kIU3"
      },
      "source": [
        "#Conclusion\n",
        "#Text classification is one of the most common natural language processing tasks. \n",
        "#In this project we saw how to perform sentiment analysis, which is a type of text classification \n",
        "#using Keras deep learning library. We used three different types of neural networks \n",
        "#to classify text sentiment besed on tween dataset.\n",
        "#The results show that LSTM, which is a variant of RNN outperforms both the CNN and simple neural network.\n",
        "#and CNN performing better."
      ],
      "execution_count": null,
      "outputs": []
    }
  ]
}